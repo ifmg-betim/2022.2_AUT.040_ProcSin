{
 "cells": [
  {
   "cell_type": "markdown",
   "metadata": {},
   "source": [
    "# Especificações filtro\n",
    "\n",
    "- $A_p = 0,5$ dB\n",
    "- $A_r = 65$ dB\n",
    "- $\\Omega_{p1} = 850$ rad/s\n",
    "- $\\Omega_{r1} = 980$ rad/s\n",
    "- $\\Omega_{r2} = 1020$ rad/s\n",
    "- $\\Omega_{p2} = 1150$ rad/s\n",
    "- $\\Omega_{s} = 10000$ rad/s"
   ]
  },
  {
   "cell_type": "code",
   "execution_count": 1,
   "metadata": {},
   "outputs": [
    {
     "name": "stdout",
     "output_type": "stream",
     "text": [
      "Frequências em tempo discreto:\n",
      "0.53;\t 0.62;\t 0.64;\t 0.72 [rad/amostra]\n",
      "\n",
      "Frequências analógicas pré-distorcidas:\n",
      "0.53;\t 0.62;\t 0.64;\t 0.72 [rad/s]\n"
     ]
    }
   ],
   "source": [
    "import numpy as np, scipy as sp, matplotlib.pyplot as plt\n",
    "from scipy import signal\n",
    "\n",
    "#################################################################\n",
    "# ESPECIFICAÇÕES DO FILTRO\n",
    "Ap = .5 # dB\n",
    "Ar = 65 # dB\n",
    "wp1a = 850 # rad/s\n",
    "wr1a = 980 # rad/s\n",
    "wr2a = 1020 # rad/s\n",
    "wp2a = 1150 # rad/s\n",
    "ws = 10000 # rad/s\n",
    "T = 2*np.pi/ws # seg: período de amostragem\n",
    "dp = 1 - 10**(-Ap/20)\n",
    "dr = 10**(-Ar/20)\n",
    "\n",
    "#################################################################\n",
    "# PASSO 1: frequências no tempo discreto\n",
    "wp1 = wp1a*2*np.pi/ws # rad/amostra\n",
    "wr1 = wr1a*2*np.pi/ws # rad/amostra\n",
    "wr2 = wr2a*2*np.pi/ws # rad/amostra\n",
    "wp2 = wp2a*2*np.pi/ws # rad/amostra\n",
    "print(\"Frequências em tempo discreto:\")\n",
    "print(\"%.2f;\\t %.2f;\\t %.2f;\\t %.2f [rad/amostra]\\n\"%(wp1, wr1, wr2, wp2))\n",
    "\n",
    "#################################################################\n",
    "# PASSO 2: frequências analógicas pré-distorcidas\n",
    "wp1_ad = (2/T)*np.tan(wp1/2)\n",
    "wr1_ad = (2/T)*np.tan(wr1/2)\n",
    "wr2_ad = (2/T)*np.tan(wr2/2)\n",
    "wp2_ad = (2/T)*np.tan(wp2/2)\n",
    "print(\"Frequências analógicas pré-distorcidas:\")\n",
    "print(\"%.2f;\\t %.2f;\\t %.2f;\\t %.2f [rad/s]\"%(wp1, wr1, wr2, wp2));"
   ]
  },
  {
   "cell_type": "markdown",
   "metadata": {},
   "source": [
    "### Projeto do filtro analógico correspondente"
   ]
  },
  {
   "cell_type": "code",
   "execution_count": 2,
   "metadata": {},
   "outputs": [
    {
     "name": "stdout",
     "output_type": "stream",
     "text": [
      "Ordem dos filtros: 5 4 4 3\n"
     ]
    },
    {
     "data": {
      "image/png": "[encoded data removed]",
      "text/plain": [
       "<Figure size 576x144 with 1 Axes>"
      ]
     },
     "metadata": {
      "needs_background": "light"
     },
     "output_type": "display_data"
    }
   ],
   "source": [
    "#################################################################\n",
    "# PASSO 3: projeto do filtro analógico correspondente\n",
    "N1, wn1 = signal.buttord(wp=[wp1_ad, wp2_ad], ws=[wr1_ad, wr2_ad], gpass=Ap, gstop=Ar, analog=True) #Butterworth\n",
    "N2, wn2 = signal.cheb1ord(wp=[wp1_ad, wp2_ad], ws=[wr1_ad, wr2_ad], gpass=Ap, gstop=Ar, analog=True) #Chebyshev I\n",
    "N3, wn3 = signal.cheb2ord(wp=[wp1_ad, wp2_ad], ws=[wr1_ad, wr2_ad], gpass=Ap, gstop=Ar, analog=True) #Chebyshev  II\n",
    "N4, wn4 = signal.ellipord(wp=[wp1_ad, wp2_ad], ws=[wr1_ad, wr2_ad], gpass=Ap, gstop=Ar, analog=True) #Eliptico\n",
    "\n",
    "print(\"Ordem dos filtros:\", N1, N2, N3, N4)\n",
    "\n",
    "z1a, p1a, k1a = signal.butter(N=N1, Wn=wn1, btype=\"bs\", analog=True, output=\"zpk\") #Butterworth\n",
    "z2a, p2a, k2a = signal.cheby1(N2, rp=Ap, Wn=wn2, btype=\"bs\", analog=True, output=\"zpk\") #Chebyshev I\n",
    "z3a, p3a, k3a = signal.cheby2(N3, rs=Ar, Wn=wn3, btype=\"bs\", analog=True, output=\"zpk\") #Chebyshev II\n",
    "z4a, p4a, k4a = signal.ellip(N4, rp=Ap, rs=Ar, Wn=wn4, btype=\"bs\", analog=True, output=\"zpk\") #Elliptic\n",
    "\n",
    "sys1a = signal.lti(z1a, p1a, k1a)\n",
    "sys2a = signal.lti(z2a, p2a, k2a)\n",
    "sys3a = signal.lti(z3a, p3a, k3a)\n",
    "sys4a = signal.lti(z4a, p4a, k4a)\n",
    "\n",
    "w = np.logspace(2.5, 4, 2000)\n",
    "w1, mag1, phase1 = sys1a.bode(w)\n",
    "w2, mag2, phase2 = sys2a.bode(w)\n",
    "w3, mag3, phase3 = sys3a.bode(w)\n",
    "w4, mag4, phase4 = sys4a.bode(w)\n",
    "\n",
    "%matplotlib inline\n",
    "\n",
    "plt.figure(figsize=(8,2))\n",
    "plt.semilogx(w1, mag1);\n",
    "plt.semilogx(w2, mag2);\n",
    "plt.semilogx(w3, mag3);\n",
    "plt.semilogx(w4, mag4);\n",
    "plt.fill([min(w), wp1_ad,  wp1_ad,  min(w)], [-Ar, -Ar, -Ap, -Ap], '0.8', lw=0) # banda passagem\n",
    "plt.fill([max(w), wp2_ad,  wp2_ad,  max(w)], [-Ar, -Ar, -Ap, -Ap], '0.8', lw=0) # banda passagem\n",
    "plt.fill([wr1_ad, wr2_ad,  wr2_ad,  wr1_ad], [-Ar, -Ar, -Ap, -Ap], '0.8', lw=0) # banda rejeição\n",
    "plt.legend((\"Butt\",\"Cheb1\",\"Cheb2\",\"Ellip\"))\n",
    "plt.ylim((-100,1))\n",
    "plt.xlim((5e2,2e3))\n",
    "plt.grid(1);"
   ]
  },
  {
   "cell_type": "markdown",
   "metadata": {},
   "source": [
    "### Transformação bilinear"
   ]
  },
  {
   "cell_type": "code",
   "execution_count": 3,
   "metadata": {},
   "outputs": [],
   "source": [
    "#################################################################\n",
    "# PASSO 4: transformação bilinear discreto -> contínuo\n",
    "z1, p1, k1 = signal.bilinear_zpk(sys1a.zeros, sys1a.poles, sys1a.gain, ws/2/np.pi)\n",
    "z2, p2, k2 = signal.bilinear_zpk(sys2a.zeros, sys2a.poles, sys2a.gain, ws/2/np.pi)\n",
    "z3, p3, k3 = signal.bilinear_zpk(sys3a.zeros, sys3a.poles, sys3a.gain, ws/2/np.pi)\n",
    "z4, p4, k4 = signal.bilinear_zpk(sys4a.zeros, sys4a.poles, sys4a.gain, ws/2/np.pi)\n",
    "\n",
    "sys1 = signal.dlti(z1, p1, k1)\n",
    "sys2 = signal.dlti(z2, p2, k2)\n",
    "sys3 = signal.dlti(z3, p3, k3)\n",
    "sys4 = signal.dlti(z4, p4, k4)"
   ]
  },
  {
   "cell_type": "markdown",
   "metadata": {},
   "source": [
    "### Conferir o filtro obtido"
   ]
  },
  {
   "cell_type": "code",
   "execution_count": 4,
   "metadata": {
    "run_control": {
     "marked": false
    }
   },
   "outputs": [
    {
     "data": {
      "image/png": "[encoded data removed]",
      "text/plain": [
       "<Figure size 576x144 with 1 Axes>"
      ]
     },
     "metadata": {
      "needs_background": "light"
     },
     "output_type": "display_data"
    }
   ],
   "source": [
    "w = np.logspace(-1, 0, 2000)\n",
    "w1, mag1, phase1 = signal.dbode(sys1, w)\n",
    "w2, mag2, phase2 = signal.dbode(sys2, w)\n",
    "w3, mag3, phase3 = signal.dbode(sys3, w)\n",
    "w4, mag4, phase4 = signal.dbode(sys4, w)\n",
    "\n",
    "# %matplotlib inline\n",
    "\n",
    "plt.figure(figsize=(8,2))\n",
    "plt.semilogx(w1, mag1);\n",
    "plt.semilogx(w2, mag2);\n",
    "plt.semilogx(w3, mag3);\n",
    "plt.semilogx(w4, mag4);\n",
    "plt.fill([min(w), wp1,  wp1,  min(w)], [-Ar, -Ar, -Ap, -Ap], '0.8', lw=0) # banda passagem\n",
    "plt.fill([max(w), wp2,  wp2,  max(w)], [-Ar, -Ar, -Ap, -Ap], '0.8', lw=0) # banda passagem\n",
    "plt.fill([wr1, wr2,  wr2,  wr1], [-Ar, -Ar, -Ap, -Ap], '0.8', lw=0) # banda rejeição\n",
    "plt.legend((\"Butt\",\"Cheb1\",\"Cheb2\",\"Ellip\"))\n",
    "plt.ylim((-100,1))\n",
    "plt.xlim((3e-1,1e0))\n",
    "plt.grid(1);"
   ]
  },
  {
   "cell_type": "markdown",
   "metadata": {},
   "source": [
    "# Outra forma de fazer (direto)"
   ]
  },
  {
   "cell_type": "code",
   "execution_count": 5,
   "metadata": {
    "code_folding": []
   },
   "outputs": [
    {
     "name": "stdout",
     "output_type": "stream",
     "text": [
      "Ordem dos filtros: 5 4 4 3\n"
     ]
    },
    {
     "data": {
      "image/png": "[encoded data removed]",
      "text/plain": [
       "<Figure size 576x144 with 1 Axes>"
      ]
     },
     "metadata": {
      "needs_background": "light"
     },
     "output_type": "display_data"
    }
   ],
   "source": [
    "#################################################################\n",
    "# PROJETO DO FILTRO DISCRETO\n",
    "N1, wn1 = signal.buttord(wp=[wp1, wp2], ws=[wr1, wr2], gpass=Ap, gstop=Ar, analog=False, fs=2*np.pi) #Butterworth\n",
    "N2, wn2 = signal.cheb1ord(wp=[wp1, wp2], ws=[wr1, wr2], gpass=Ap, gstop=Ar, analog=False, fs=2*np.pi) #Chebyshev I\n",
    "N3, wn3 = signal.cheb2ord(wp=[wp1, wp2], ws=[wr1, wr2], gpass=Ap, gstop=Ar, analog=False, fs=2*np.pi) #Chebyshev  II\n",
    "N4, wn4 = signal.ellipord(wp=[wp1, wp2], ws=[wr1, wr2], gpass=Ap, gstop=Ar, analog=False, fs=2*np.pi) #Eliptico\n",
    "\n",
    "print(\"Ordem dos filtros:\", N1, N2, N3, N4)\n",
    "\n",
    "z1, p1, k1 = signal.butter(N1, Wn=wn1, btype=\"bs\", analog=False, output=\"zpk\", fs=2*np.pi) #Butterworth\n",
    "z2, p2, k2 = signal.cheby1(N2, rp=Ap, Wn=wn2, btype=\"bs\", analog=False, output=\"zpk\", fs=2*np.pi) #Chebyshev I\n",
    "z3, p3, k3 = signal.cheby2(N3, rs=Ar, Wn=wn3, btype=\"bs\", analog=False, output=\"zpk\", fs=2*np.pi) #Chebyshev II\n",
    "z4, p4, k4 = signal.ellip(N4, rp=Ap, rs=Ar, Wn=wn4, btype=\"bs\", analog=False, output=\"zpk\", fs=2*np.pi) #Elliptic\n",
    "\n",
    "sys1 = signal.dlti(z1, p1, k1)\n",
    "sys2 = signal.dlti(z2, p2, k2)\n",
    "sys3 = signal.dlti(z3, p3, k3)\n",
    "sys4 = signal.dlti(z4, p4, k4)\n",
    "\n",
    "w = np.logspace(-1, 0, 2000)\n",
    "w1, mag1, phase1 = signal.dbode(sys1, w)\n",
    "w2, mag2, phase2 = signal.dbode(sys2, w)\n",
    "w3, mag3, phase3 = signal.dbode(sys3, w)\n",
    "w4, mag4, phase4 = signal.dbode(sys4, w)\n",
    "\n",
    "# %matplotlib inline\n",
    "\n",
    "plt.figure(figsize=(8,2))\n",
    "plt.semilogx(w1, mag1);\n",
    "plt.semilogx(w2, mag2);\n",
    "plt.semilogx(w3, mag3);\n",
    "plt.semilogx(w4, mag4);\n",
    "plt.fill([min(w), wp1,  wp1,  min(w)], [-Ar, -Ar, -Ap, -Ap], '0.8', lw=0) # banda passagem\n",
    "plt.fill([max(w), wp2,  wp2,  max(w)], [-Ar, -Ar, -Ap, -Ap], '0.8', lw=0) # banda passagem\n",
    "plt.fill([wr1, wr2,  wr2,  wr1], [-Ar, -Ar, -Ap, -Ap], '0.8', lw=0) # banda rejeição\n",
    "plt.legend((\"Butt\",\"Cheb1\",\"Cheb2\",\"Ellip\"))\n",
    "plt.ylim((-100,1))\n",
    "plt.xlim((4e-1,1e0))\n",
    "plt.grid(1);"
   ]
  },
  {
   "cell_type": "markdown",
   "metadata": {},
   "source": [
    "# Outra forma de fazer (usando `signal.iirdesign`)"
   ]
  },
  {
   "cell_type": "code",
   "execution_count": 20,
   "metadata": {},
   "outputs": [
    {
     "data": {
      "application/vnd.jupyter.widget-view+json": {
       "model_id": "0a622d0bddd04f46af5ef7f861167780",
       "version_major": 2,
       "version_minor": 0
      },
      "text/plain": [
       "Canvas(toolbar=Toolbar(toolitems=[('Home', 'Reset original view', 'home', 'home'), ('Back', 'Back to previous …"
      ]
     },
     "metadata": {},
     "output_type": "display_data"
    }
   ],
   "source": [
    "#################################################################\n",
    "# ESPECIFICAÇÕES DO FILTRO\n",
    "Ap = .5 # dB\n",
    "Ar = 65 # dB\n",
    "wp1a = 850 # rad/s\n",
    "wr1a = 980 # rad/s\n",
    "wr2a = 1020 # rad/s\n",
    "wp2a = 1150 # rad/s\n",
    "ws = 10000 # rad/s\n",
    "T = 2*np.pi/ws # seg: período de amostragem\n",
    "dp = 1 - 10**(-Ap/20)\n",
    "dr = 10**(-Ar/20)\n",
    "\n",
    "#################################################################\n",
    "# PROJETO\n",
    "\n",
    "z1, p1, k1 = signal.iirdesign(wp=[wp1a, wp2a], ws=[wr1a, wr2a],\n",
    "                              gpass=Ap, gstop=Ar, analog=False,\n",
    "                              ftype='butter', output='zpk', fs=ws,)\n",
    "z2, p2, k2 = signal.iirdesign(wp=[wp1a, wp2a], ws=[wr1a, wr2a],\n",
    "                              gpass=Ap, gstop=Ar, analog=False,\n",
    "                              ftype='cheby1', output='zpk', fs=ws,)\n",
    "z3, p3, k3 = signal.iirdesign(wp=[wp1a, wp2a], ws=[wr1a, wr2a],\n",
    "                              gpass=Ap, gstop=Ar, analog=False,\n",
    "                              ftype='cheby2', output='zpk', fs=ws,)\n",
    "z4, p4, k4 = signal.iirdesign(wp=[wp1a, wp2a], ws=[wr1a, wr2a],\n",
    "                              gpass=Ap, gstop=Ar, analog=False,\n",
    "                              ftype='ellip', output='zpk', fs=ws,)\n",
    "\n",
    "#################################################################\n",
    "# ANÁLISE DO FILTRO\n",
    "\n",
    "sys1 = signal.dlti(z1, p1, k1)\n",
    "sys2 = signal.dlti(z2, p2, k2)\n",
    "sys3 = signal.dlti(z3, p3, k3)\n",
    "sys4 = signal.dlti(z4, p4, k4)\n",
    "\n",
    "w = np.logspace(-1, 0, 2000)\n",
    "w1, mag1, phase1 = signal.dbode(sys1, w)\n",
    "w2, mag2, phase2 = signal.dbode(sys2, w)\n",
    "w3, mag3, phase3 = signal.dbode(sys3, w)\n",
    "w4, mag4, phase4 = signal.dbode(sys4, w)\n",
    "\n",
    "%matplotlib widget\n",
    "\n",
    "\n",
    "# TRANFORMAÇÃO PARA CONFERIR AS FREQUÊNCIAS ANALÓGICAS!\n",
    "w1, w2, w3, w4 = w1*ws/2/np.pi, w2*ws/2/np.pi, w3*ws/2/np.pi, w4*ws/2/np.pi\n",
    "\n",
    "plt.figure(figsize=(8,2))\n",
    "plt.semilogx(w1, mag1);\n",
    "plt.semilogx(w2, mag2);\n",
    "plt.semilogx(w3, mag3);\n",
    "plt.semilogx(w4, mag4);\n",
    "\n",
    "plt.fill([min(w1), wp1a,  wp1a,  min(w1)], [-Ar, -Ar, -Ap, -Ap], '0.8', lw=0) # banda passagem\n",
    "plt.fill([max(w1), wp2a,  wp2a,  max(w1)], [-Ar, -Ar, -Ap, -Ap], '0.8', lw=0) # banda passagem\n",
    "plt.fill([wr1a, wr2a,  wr2a,  wr1a], [-Ar, -Ar, -Ap, -Ap], '0.8', lw=0) # banda rejeição\n",
    "\n",
    "plt.legend((\"Butt\",\"Cheb1\",\"Cheb2\",\"Ellip\"))\n",
    "plt.ylim((-100,1))\n",
    "# plt.xlim((4e-1,1e0))\n",
    "plt.grid(1)\n",
    "plt.show();"
   ]
  }
 ],
 "metadata": {
  "kernelspec": {
   "display_name": "Python 3",
   "language": "python",
   "name": "python3"
  },
  "language_info": {
   "codemirror_mode": {
    "name": "ipython",
    "version": 3
   },
   "file_extension": ".py",
   "mimetype": "text/x-python",
   "name": "python",
   "nbconvert_exporter": "python",
   "pygments_lexer": "ipython3",
   "version": "3.6.11"
  },
  "toc": {
   "base_numbering": 1,
   "nav_menu": {},
   "number_sections": false,
   "sideBar": true,
   "skip_h1_title": false,
   "title_cell": "Table of Contents",
   "title_sidebar": "Contents",
   "toc_cell": false,
   "toc_position": {},
   "toc_section_display": true,
   "toc_window_display": false
  },
  "varInspector": {
   "cols": {
    "lenName": 16,
    "lenType": 16,
    "lenVar": 40
   },
   "kernels_config": {
    "python": {
     "delete_cmd_postfix": "",
     "delete_cmd_prefix": "del ",
     "library": "var_list.py",
     "varRefreshCmd": "print(var_dic_list())"
    },
    "r": {
     "delete_cmd_postfix": ") ",
     "delete_cmd_prefix": "rm(",
     "library": "var_list.r",
     "varRefreshCmd": "cat(var_dic_list()) "
    }
   },
   "types_to_exclude": [
    "module",
    "function",
    "builtin_function_or_method",
    "instance",
    "_Feature"
   ],
   "window_display": false
  }
 },
 "nbformat": 4,
 "nbformat_minor": 4
}
