{
 "cells": [
  {
   "cell_type": "markdown",
   "metadata": {},
   "source": [
    "# Especificações do filtro\n",
    "- $G_p = -3,0$ dB\n",
    "- $G_r = -40,0$ dB\n",
    "- $\\Omega_{r1} = 1394 \\pi$ rad/s\n",
    "- $\\Omega_{p1} = 1510 \\pi$ rad/s\n",
    "- $\\Omega_{p2} = 1570 \\pi$ rad/s\n",
    "- $\\Omega_{r2} = 1704 \\pi$ rad/s"
   ]
  },
  {
   "cell_type": "code",
   "execution_count": 19,
   "metadata": {
    "run_control": {
     "marked": false
    }
   },
   "outputs": [],
   "source": [
    "import numpy as np, scipy as sp, matplotlib.pyplot as plt\n",
    "from scipy import signal #biblioteca de sinais\n",
    "\n",
    "# 1. Especificações do filtro\n",
    "Gp = -3 # dB\n",
    "Gr = -45 # dB\n",
    "Ap = -Gp\n",
    "Ar = -Gr\n",
    "wr1 = 1394*np.pi # rad/s\n",
    "wp1 = 1510*np.pi # rad/s\n",
    "wp2 = 1570*np.pi # rad/s\n",
    "wr2 = 1704*np.pi # rad/s\n",
    "\n",
    "# 2. Ordem do filtro\n",
    "N1, wn1 = signal.buttord([wp1, wp2], [wr1, wr2], Ap, Ar, analog=True)\n",
    "N2, wn2 = signal.cheb1ord([wp1, wp2], [wr1, wr2], Ap, Ar, analog=True)\n",
    "\n",
    "# 3. Aproximação do filtro analógico\n",
    "num1, den1 = signal.butter(N1, wn1, btype='bp', analog=True, output='ba')\n",
    "num2, den2 = signal.cheby1(N2, Ap, wn2, btype='bp', analog=True, output='ba')\n",
    "\n",
    "sys1 = signal.lti(num1, den1)\n",
    "sys2 = signal.lti(num2, den2)"
   ]
  },
  {
   "cell_type": "code",
   "execution_count": 22,
   "metadata": {},
   "outputs": [],
   "source": [
    "%matplotlib widget"
   ]
  },
  {
   "cell_type": "code",
   "execution_count": 23,
   "metadata": {},
   "outputs": [
    {
     "data": {
      "application/vnd.jupyter.widget-view+json": {
       "model_id": "fb477fa35e36467fa5cca27d5dd517e3",
       "version_major": 2,
       "version_minor": 0
      },
      "text/plain": [
       "Canvas(toolbar=Toolbar(toolitems=[('Home', 'Reset original view', 'home', 'home'), ('Back', 'Back to previous …"
      ]
     },
     "metadata": {},
     "output_type": "display_data"
    }
   ],
   "source": [
    "# Diagrama de Bode\n",
    "w = np.logspace(3.2, 4, 1000)\n",
    "w1, mag1, ph1 = signal.bode(sys1, w)\n",
    "w2, mag2, ph2 = signal.bode(sys2, w)\n",
    "\n",
    "\n",
    "plt.figure(figsize=(15,3))\n",
    "plt.semilogx(w1, mag1, label=\"butt\")\n",
    "plt.semilogx(w2, mag2, label=\"cheb1\")\n",
    "\n",
    "# Plot dos requisitos do filtro\n",
    "plt.fill([wp1, wp2,  wp2,  wp1], [-Ar, -Ar, -Ap, -Ap], '0.8', lw=0) # banda passagem\n",
    "plt.fill([min(w), wr1,  wr1,  min(w)], [-Ar, -Ar, -Ap, -Ap], '0.8', lw=0) # banda rejeição 1\n",
    "plt.fill([max(w), wr2,  wr2,  max(w)], [-Ar, -Ar, -Ap, -Ap], '0.8', lw=0) # banda rejeição 2\n",
    "plt.axis([wr1-1000, wr2+1000, -Ar-10, 5])\n",
    "\n",
    "plt.xlabel(\"frequências (rad/s)\")\n",
    "plt.ylabel(\"Magnitude\");"
   ]
  },
  {
   "cell_type": "code",
   "execution_count": null,
   "metadata": {},
   "outputs": [],
   "source": []
  },
  {
   "cell_type": "code",
   "execution_count": null,
   "metadata": {},
   "outputs": [],
   "source": []
  },
  {
   "cell_type": "code",
   "execution_count": null,
   "metadata": {},
   "outputs": [],
   "source": []
  },
  {
   "cell_type": "code",
   "execution_count": null,
   "metadata": {},
   "outputs": [],
   "source": []
  },
  {
   "cell_type": "code",
   "execution_count": null,
   "metadata": {},
   "outputs": [],
   "source": []
  },
  {
   "cell_type": "code",
   "execution_count": null,
   "metadata": {},
   "outputs": [],
   "source": []
  },
  {
   "cell_type": "code",
   "execution_count": null,
   "metadata": {},
   "outputs": [],
   "source": []
  },
  {
   "cell_type": "code",
   "execution_count": null,
   "metadata": {},
   "outputs": [],
   "source": []
  }
 ],
 "metadata": {
  "kernelspec": {
   "display_name": "Python 3",
   "language": "python",
   "name": "python3"
  },
  "language_info": {
   "codemirror_mode": {
    "name": "ipython",
    "version": 3
   },
   "file_extension": ".py",
   "mimetype": "text/x-python",
   "name": "python",
   "nbconvert_exporter": "python",
   "pygments_lexer": "ipython3",
   "version": "3.6.11"
  },
  "toc": {
   "base_numbering": 1,
   "nav_menu": {},
   "number_sections": false,
   "sideBar": true,
   "skip_h1_title": false,
   "title_cell": "Table of Contents",
   "title_sidebar": "Contents",
   "toc_cell": false,
   "toc_position": {},
   "toc_section_display": true,
   "toc_window_display": false
  },
  "varInspector": {
   "cols": {
    "lenName": 16,
    "lenType": 16,
    "lenVar": 40
   },
   "kernels_config": {
    "python": {
     "delete_cmd_postfix": "",
     "delete_cmd_prefix": "del ",
     "library": "var_list.py",
     "varRefreshCmd": "print(var_dic_list())"
    },
    "r": {
     "delete_cmd_postfix": ") ",
     "delete_cmd_prefix": "rm(",
     "library": "var_list.r",
     "varRefreshCmd": "cat(var_dic_list()) "
    }
   },
   "types_to_exclude": [
    "module",
    "function",
    "builtin_function_or_method",
    "instance",
    "_Feature"
   ],
   "window_display": false
  }
 },
 "nbformat": 4,
 "nbformat_minor": 4
}
